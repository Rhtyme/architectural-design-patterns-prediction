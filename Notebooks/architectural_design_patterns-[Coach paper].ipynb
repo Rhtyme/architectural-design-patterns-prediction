{
 "cells": [
  {
   "cell_type": "markdown",
   "metadata": {
    "id": "f3WhOg8Gpw8M"
   },
   "source": [
    "# Machine learning based apprpoach for achitecture detection from GitHub repositories [Coach Dataset]\n",
    "\n",
    "```\n",
    "Author: Gcinizwe Dlamini\n",
    "```\n",
    "<hr>\n",
    "\n",
    "```\n",
    "The notebook is dedicated to data extraction, EDA and classisification\n",
    "\n",
    "Main libraries used :     \n",
    "- catboost\n",
    "- pandas\n",
    "- sklearn\n",
    "- interpret\n",
    "```\n",
    "\n",
    "If catboost not installed run  `!pip install catboost`"
   ]
  },
  {
   "cell_type": "markdown",
   "metadata": {
    "id": "hfcCdsZLqgwx"
   },
   "source": [
    "## Extract data from files"
   ]
  },
  {
   "cell_type": "code",
   "execution_count": 1,
   "metadata": {
    "id": "MGCMhA6fqF4a"
   },
   "outputs": [],
   "source": [
    "import os, glob\n",
    "import pandas as pd\n",
    "import numpy as np \n",
    "\n",
    "import warnings\n",
    "warnings.filterwarnings(\"ignore\")"
   ]
  },
  {
   "cell_type": "code",
   "execution_count": 2,
   "metadata": {
    "id": "fH9neRRcrPza"
   },
   "outputs": [],
   "source": [
    "def get_data_from_csv(train_path='../Data/coach_data.csv', print_stat=False):\n",
    "    full_data = pd.read_csv(train_path)\n",
    "\n",
    "    if print_stat:\n",
    "        pass\n",
    "    return full_data"
   ]
  },
  {
   "cell_type": "code",
   "execution_count": 3,
   "metadata": {},
   "outputs": [
    {
     "data": {
      "text/plain": [
       "{'MVC': 0, 'MVP': 1, 'MVVM': 2, 'NONE': 3}"
      ]
     },
     "execution_count": 3,
     "metadata": {},
     "output_type": "execute_result"
    }
   ],
   "source": [
    "full_data  = get_data_from_csv()\n",
    "vals = np.unique(full_data.label).tolist()\n",
    "mapping_labels = dict(zip(vals,np.arange(len(vals)))) \n",
    "mapping_labels"
   ]
  },
  {
   "cell_type": "code",
   "execution_count": 4,
   "metadata": {},
   "outputs": [
    {
     "data": {
      "text/plain": [
       "0     3\n",
       "1     0\n",
       "2     0\n",
       "3     2\n",
       "4     1\n",
       "     ..\n",
       "64    0\n",
       "65    3\n",
       "66    1\n",
       "67    0\n",
       "68    0\n",
       "Name: label, Length: 69, dtype: int64"
      ]
     },
     "execution_count": 4,
     "metadata": {},
     "output_type": "execute_result"
    }
   ],
   "source": [
    "full_data['label'].apply(lambda x : mapping_labels.get(x) )"
   ]
  },
  {
   "cell_type": "code",
   "execution_count": 5,
   "metadata": {},
   "outputs": [],
   "source": [
    "full_data['label'] = full_data['label'].apply(lambda x : mapping_labels.get(x) )\n",
    "\n",
    "Xtrain, ytrain = full_data.drop('label',axis=1).values, full_data.label.values"
   ]
  },
  {
   "cell_type": "markdown",
   "metadata": {
    "id": "JCAHTUDQV2j5"
   },
   "source": [
    "## Define, train and Evaluate ML models"
   ]
  },
  {
   "cell_type": "code",
   "execution_count": 7,
   "metadata": {
    "id": "j2T2fPdvVX5K"
   },
   "outputs": [],
   "source": [
    "from sklearn.model_selection import train_test_split\n",
    "from sklearn.ensemble import RandomForestClassifier\n",
    "from sklearn.linear_model import LogisticRegression\n",
    "from sklearn.tree import DecisionTreeClassifier\n",
    "from sklearn.svm import SVC\n",
    "from sklearn.neighbors import KNeighborsClassifier\n",
    "from catboost import CatBoostClassifier\n",
    "from sklearn.naive_bayes import GaussianNB\n",
    "from sklearn.preprocessing import LabelEncoder, StandardScaler\n",
    "from sklearn.metrics import classification_report, accuracy_score\n",
    "from interpret.glassbox import ExplainableBoostingClassifier\n",
    "from sklearn.model_selection import cross_val_score"
   ]
  },
  {
   "cell_type": "code",
   "execution_count": 9,
   "metadata": {
    "colab": {
     "base_uri": "https://localhost:8080/"
    },
    "id": "VKSojA5DAsMb",
    "outputId": "b7c1988b-a4f2-4d99-ba7c-14203762b5dc"
   },
   "outputs": [
    {
     "name": "stdout",
     "output_type": "stream",
     "text": [
      "0.434 F1 with a standard deviation of 0.10 \n",
      "\n",
      "0.529 F1 with a standard deviation of 0.10 \n",
      "\n",
      "0.544 F1 with a standard deviation of 0.04 \n",
      "\n",
      "0.575 F1 with a standard deviation of 0.14 \n",
      "\n"
     ]
    }
   ],
   "source": [
    "## Cross Validation \n",
    "dt = DecisionTreeClassifier()\n",
    "scores = cross_val_score(dt, Xtrain, ytrain, cv=5, scoring='f1_weighted')\n",
    "print(\"%0.3f F1 with a standard deviation of %0.2f \\n\" % (scores.mean(), scores.std()))\n",
    "\n",
    "\n",
    "## Cross Validation \n",
    "rf = RandomForestClassifier()\n",
    "scores = cross_val_score(rf, Xtrain, ytrain, cv=5, scoring='f1_weighted')\n",
    "print(\"%0.3f F1 with a standard deviation of %0.2f \\n\" % (scores.mean(), scores.std()))\n",
    "\n",
    "\n",
    "## Cross Validation CatBoost Classifier\n",
    "cb = CatBoostClassifier(verbose=False)\n",
    "scores = cross_val_score(cb, Xtrain, ytrain, cv=5, scoring='f1_weighted')\n",
    "print(\"%0.3f F1 with a standard deviation of %0.2f \\n\" % (scores.mean(), scores.std()))\n",
    "\n",
    "\n",
    "## Cross Validation \n",
    "ebm = ExplainableBoostingClassifier(random_state=1)\n",
    "scores = cross_val_score(ebm, Xtrain, ytrain, cv=5, scoring='f1_weighted')\n",
    "print(\"%0.3f F1 with a standard deviation of %0.2f \\n\" % (scores.mean(), scores.std()))"
   ]
  },
  {
   "cell_type": "code",
   "execution_count": 10,
   "metadata": {
    "colab": {
     "base_uri": "https://localhost:8080/"
    },
    "id": "FZcUfU81VsZQ",
    "outputId": "1d6f40de-db17-4ade-b600-14bdb8c33378"
   },
   "outputs": [
    {
     "name": "stdout",
     "output_type": "stream",
     "text": [
      "0.539 F1 with a standard deviation of 0.18 \n",
      "\n",
      "neural network\n",
      "0.338 F1 with a standard deviation of 0.11 \n",
      "\n",
      "KNN\n",
      "0.583 F1 with a standard deviation of 0.11 \n",
      "\n",
      "SVM\n",
      "0.523 F1 with a standard deviation of 0.08 \n",
      "\n",
      "GaussianNB\n",
      "0.512 F1 with a standard deviation of 0.15 \n",
      "\n"
     ]
    }
   ],
   "source": [
    "from sklearn.pipeline import make_pipeline\n",
    "scaler = StandardScaler()\n",
    "X_train_std = scaler.fit_transform(Xtrain)\n",
    "\n",
    "\n",
    "## Cross Validation LR\n",
    "clf = make_pipeline(StandardScaler(), LogisticRegression())\n",
    "scores = cross_val_score(clf, Xtrain, ytrain, cv=5, scoring='f1_weighted')\n",
    "print(\"%0.3f F1 with a standard deviation of %0.2f \\n\" % (scores.mean(), scores.std()))\n",
    "\n",
    "\n",
    "print(\"neural network\")\n",
    "from sklearn.neural_network import MLPClassifier\n",
    "## Cross Validation nn\n",
    "nn_clf = MLPClassifier(solver='lbfgs', alpha=1e-5,\n",
    "                hidden_layer_sizes=(5, 2), random_state=1)\n",
    "clf = make_pipeline(StandardScaler(), nn_clf)\n",
    "scores = cross_val_score(clf, Xtrain, ytrain, cv=5, scoring='f1_weighted')\n",
    "print(\"%0.3f F1 with a standard deviation of %0.2f \\n\" % (scores.mean(), scores.std()))\n",
    "\n",
    "\n",
    "print(\"KNN\")\n",
    "## Cross Validation \n",
    "clf = make_pipeline(StandardScaler(), KNeighborsClassifier())\n",
    "scores = cross_val_score(clf, Xtrain, ytrain, cv=5, scoring='f1_weighted')\n",
    "print(\"%0.3f F1 with a standard deviation of %0.2f \\n\" % (scores.mean(), scores.std()))\n",
    "\n",
    "print(\"SVM\")\n",
    "## Cross Validation SVM\n",
    "clf = make_pipeline(StandardScaler(), SVC())\n",
    "scores = cross_val_score(clf, Xtrain, ytrain, cv=5, scoring='f1_weighted')\n",
    "print(\"%0.3f F1 with a standard deviation of %0.2f \\n\" % (scores.mean(), scores.std()))\n",
    "\n",
    "print(\"GaussianNB\")\n",
    "## Cross Validation NB\n",
    "clf = make_pipeline(StandardScaler(), GaussianNB())\n",
    "scores = cross_val_score(clf, Xtrain, ytrain, cv=5, scoring='f1_weighted')\n",
    "print(\"%0.3f F1 with a standard deviation of %0.2f \\n\" % (scores.mean(), scores.std()))"
   ]
  }
 ],
 "metadata": {
  "accelerator": "GPU",
  "colab": {
   "collapsed_sections": [],
   "name": "architectural design patterns.ipynb",
   "provenance": []
  },
  "kernelspec": {
   "display_name": "Python 3",
   "language": "python",
   "name": "python3"
  },
  "language_info": {
   "codemirror_mode": {
    "name": "ipython",
    "version": 3
   },
   "file_extension": ".py",
   "mimetype": "text/x-python",
   "name": "python",
   "nbconvert_exporter": "python",
   "pygments_lexer": "ipython3",
   "version": "3.8.5"
  }
 },
 "nbformat": 4,
 "nbformat_minor": 1
}
