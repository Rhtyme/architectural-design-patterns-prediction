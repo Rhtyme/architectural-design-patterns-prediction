{
 "cells": [
  {
   "cell_type": "code",
   "execution_count": 1,
   "id": "finished-exhaust",
   "metadata": {},
   "outputs": [],
   "source": [
    "import os, zipfile\n",
    "import pandas as pd\n",
    "import numpy as np"
   ]
  },
  {
   "cell_type": "code",
   "execution_count": 2,
   "id": "complicated-parks",
   "metadata": {},
   "outputs": [],
   "source": [
    "zip_path='../Data/Archive.zip'\n",
    "zf = zipfile.ZipFile(zip_path)\n",
    "method_files = [(f , f.split('/')[-3], f.split('/')[-2], \"method.csv\") for f in zf.namelist() if f.endswith('method.csv')]\n",
    "class_files = [(f , f.split('/')[-3], f.split('/')[-2], \"class.csv\") for f in zf.namelist() if f.endswith('class.csv')]\n",
    "variable_files = [(f , f.split('/')[-3], f.split('/')[-2], \"variable.csv\") for f in zf.namelist() if f.endswith('variable.csv')]\n",
    "field_files = [(f , f.split('/')[-3], f.split('/')[-2], \"field.csv\") for f in zf.namelist() if f.endswith('field.csv')]\n",
    "\n",
    "df = pd.DataFrame(method_files + class_files + variable_files + field_files, columns=[\"full_path\", \"class\", \"project_name\", \"file_type\"])"
   ]
  },
  {
   "cell_type": "code",
   "execution_count": 3,
   "id": "altered-hamilton",
   "metadata": {},
   "outputs": [
    {
     "data": {
      "text/plain": [
       "69"
      ]
     },
     "execution_count": 3,
     "metadata": {},
     "output_type": "execute_result"
    }
   ],
   "source": [
    "len(class_files)"
   ]
  },
  {
   "cell_type": "code",
   "execution_count": 4,
   "id": "seventh-handy",
   "metadata": {},
   "outputs": [
    {
     "data": {
      "text/html": [
       "<div>\n",
       "<style scoped>\n",
       "    .dataframe tbody tr th:only-of-type {\n",
       "        vertical-align: middle;\n",
       "    }\n",
       "\n",
       "    .dataframe tbody tr th {\n",
       "        vertical-align: top;\n",
       "    }\n",
       "\n",
       "    .dataframe thead th {\n",
       "        text-align: right;\n",
       "    }\n",
       "</style>\n",
       "<table border=\"1\" class=\"dataframe\">\n",
       "  <thead>\n",
       "    <tr style=\"text-align: right;\">\n",
       "      <th></th>\n",
       "      <th>folder</th>\n",
       "      <th>pattern</th>\n",
       "    </tr>\n",
       "  </thead>\n",
       "  <tbody>\n",
       "    <tr>\n",
       "      <th>0</th>\n",
       "      <td>ck_metrics_root/2048-android-master</td>\n",
       "      <td>NONE</td>\n",
       "    </tr>\n",
       "    <tr>\n",
       "      <th>1</th>\n",
       "      <td>ck_metrics_root/AdAway-master</td>\n",
       "      <td>MVVM</td>\n",
       "    </tr>\n",
       "    <tr>\n",
       "      <th>2</th>\n",
       "      <td>ck_metrics_root/amdroid-master</td>\n",
       "      <td>NONE</td>\n",
       "    </tr>\n",
       "    <tr>\n",
       "      <th>3</th>\n",
       "      <td>ck_metrics_root/android-adbm-master</td>\n",
       "      <td>NONE</td>\n",
       "    </tr>\n",
       "    <tr>\n",
       "      <th>4</th>\n",
       "      <td>ck_metrics_root/android-applications-info-master</td>\n",
       "      <td>NONE</td>\n",
       "    </tr>\n",
       "    <tr>\n",
       "      <th>...</th>\n",
       "      <td>...</td>\n",
       "      <td>...</td>\n",
       "    </tr>\n",
       "    <tr>\n",
       "      <th>64</th>\n",
       "      <td>ck_metrics_root/Todoer-master</td>\n",
       "      <td>NONE</td>\n",
       "    </tr>\n",
       "    <tr>\n",
       "      <th>65</th>\n",
       "      <td>ck_metrics_root/yubiclip-android-master</td>\n",
       "      <td>MVC</td>\n",
       "    </tr>\n",
       "    <tr>\n",
       "      <th>66</th>\n",
       "      <td>ck_metrics_root/zanavi-master</td>\n",
       "      <td>MVC</td>\n",
       "    </tr>\n",
       "    <tr>\n",
       "      <th>67</th>\n",
       "      <td>ck_metrics_root/Zensuren-master</td>\n",
       "      <td>MVC</td>\n",
       "    </tr>\n",
       "    <tr>\n",
       "      <th>68</th>\n",
       "      <td>ck_metrics_root/ZephyrLogger-master</td>\n",
       "      <td>MVC</td>\n",
       "    </tr>\n",
       "  </tbody>\n",
       "</table>\n",
       "<p>69 rows × 2 columns</p>\n",
       "</div>"
      ],
      "text/plain": [
       "                                              folder pattern\n",
       "0                ck_metrics_root/2048-android-master    NONE\n",
       "1                      ck_metrics_root/AdAway-master    MVVM\n",
       "2                     ck_metrics_root/amdroid-master    NONE\n",
       "3                ck_metrics_root/android-adbm-master    NONE\n",
       "4   ck_metrics_root/android-applications-info-master    NONE\n",
       "..                                               ...     ...\n",
       "64                     ck_metrics_root/Todoer-master    NONE\n",
       "65           ck_metrics_root/yubiclip-android-master     MVC\n",
       "66                     ck_metrics_root/zanavi-master     MVC\n",
       "67                   ck_metrics_root/Zensuren-master     MVC\n",
       "68               ck_metrics_root/ZephyrLogger-master     MVC\n",
       "\n",
       "[69 rows x 2 columns]"
      ]
     },
     "execution_count": 4,
     "metadata": {},
     "output_type": "execute_result"
    }
   ],
   "source": [
    "label_match_df = pd.read_csv('../Data/ck_results_of_repos.csv')\n",
    "label_match_df.drop_duplicates(inplace=True)\n",
    "label_match_df"
   ]
  },
  {
   "cell_type": "code",
   "execution_count": 5,
   "id": "brilliant-friendly",
   "metadata": {},
   "outputs": [],
   "source": [
    "label_match_df['folder'] = label_match_df['folder'].apply(lambda x : x.replace('ck_metrics_root/',''))\n",
    "from_file2Class = dict(zip(label_match_df['folder'], label_match_df['pattern']))"
   ]
  },
  {
   "cell_type": "code",
   "execution_count": null,
   "id": "joint-undergraduate",
   "metadata": {},
   "outputs": [],
   "source": []
  },
  {
   "cell_type": "code",
   "execution_count": null,
   "id": "insured-capture",
   "metadata": {},
   "outputs": [],
   "source": []
  },
  {
   "cell_type": "code",
   "execution_count": 6,
   "id": "copyrighted-writing",
   "metadata": {},
   "outputs": [
    {
     "name": "stdout",
     "output_type": "stream",
     "text": [
      "Total 69\n"
     ]
    }
   ],
   "source": [
    "X = []\n",
    "Y = []\n",
    "i = 0\n",
    "cols = []\n",
    "for project_name, project_samples in df.groupby(\"project_name\"):\n",
    "    project_data = []\n",
    "    failed = 0\n",
    "    class_name = from_file2Class[project_name]\n",
    "    for path in project_samples.sort_values(by=\"file_type\")[['full_path','file_type']].values:\n",
    "        dddf=pd.read_csv(zf.open(path[0])).select_dtypes(exclude=[object]).fillna(0).mean()\n",
    "        if len(dddf) == 0:\n",
    "            failed+=1\n",
    "            if i == 0: cols = []\n",
    "            break\n",
    "        project_data += dddf.to_list()\n",
    "        if i == 0:\n",
    "            cols += [f'{path[-1][:-4]}_{cname}' for cname in dddf.index]\n",
    "    if failed == 0:\n",
    "        i+=1\n",
    "        project_data = np.array(project_data).reshape(1,-1)\n",
    "        X += project_data.tolist()\n",
    "        Y.append(class_name)\n",
    "        \n",
    "print(f\"Total {i}\")\n",
    "# return np.array(X), Y, cols"
   ]
  },
  {
   "cell_type": "code",
   "execution_count": 8,
   "id": "familiar-cherry",
   "metadata": {},
   "outputs": [],
   "source": [
    "res_df = pd.DataFrame(X, columns=cols)\n",
    "res_df['label'] = Y"
   ]
  },
  {
   "cell_type": "code",
   "execution_count": 12,
   "id": "bottom-import",
   "metadata": {},
   "outputs": [],
   "source": [
    "res_df.to_csv('../Data/coach_data.csv', index=False)"
   ]
  },
  {
   "cell_type": "code",
   "execution_count": null,
   "id": "reported-convention",
   "metadata": {},
   "outputs": [],
   "source": []
  }
 ],
 "metadata": {
  "kernelspec": {
   "display_name": "Python 3",
   "language": "python",
   "name": "python3"
  },
  "language_info": {
   "codemirror_mode": {
    "name": "ipython",
    "version": 3
   },
   "file_extension": ".py",
   "mimetype": "text/x-python",
   "name": "python",
   "nbconvert_exporter": "python",
   "pygments_lexer": "ipython3",
   "version": "3.8.5"
  }
 },
 "nbformat": 4,
 "nbformat_minor": 5
}
